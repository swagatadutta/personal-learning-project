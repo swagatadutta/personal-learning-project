{
 "cells": [
  {
   "cell_type": "code",
   "execution_count": 97,
   "metadata": {},
   "outputs": [
    {
     "name": "stderr",
     "output_type": "stream",
     "text": [
      "INFO:bokeh.io.state:Session output file 'scatter_charts.html' already exists, will be overwritten.\n"
     ]
    }
   ],
   "source": [
    "# scatter_plot\n",
    "from bokeh.plotting import figure, show, output_file\n",
    "import pandas\n",
    "\n",
    "df=pandas.DataFrame(columns=[\"X\", \"Y\"])\n",
    "df[\"X\"]=[0,1,2,3,4,5,6]\n",
    "df[\"Y\"]=[0,1,4,9,16,25,36]\n",
    "\n",
    "#  https://bokeh.pydata.org/en/latest/docs/user_guide/tools.html\n",
    "#  https://bokeh.pydata.org/en/latest/docs/user_guide/plotting.html\n",
    "p= figure(plot_width=800, plot_height=500, \n",
    "          title=\"Squared Numbers\", \n",
    "          background_fill_color=\"green\", \n",
    "          background_fill_alpha=0.1, \n",
    "          logo=None, \n",
    "          tools='pan,box_select,lasso_select,wheel_zoom,box_zoom,tap,hover,undo, redo, save, reset',\n",
    "          toolbar_location=\"right\",\n",
    "          toolbar_sticky=False)\n",
    "\n",
    "p.title.text_color = \"orange\"\n",
    "p.title.text_font_size=\"18pt\"\n",
    "p.title.text_font_style=\"normal\"\n",
    "\n",
    "p.xaxis.axis_label=\"Integer\"\n",
    "p.yaxis.axis_label=\"Squared number\"\n",
    "\n",
    "p.xaxis.minor_tick_line_color=None\n",
    "p.yaxis.minor_tick_line_color=None\n",
    "\n",
    "\n",
    "p.circle(df[\"X\"], df[\"Y\"], size=[i*2 for i in [1,4,8,12,16,20,24]], color=\"red\", alpha=0.5)\n",
    "output_file(\"scatter_charts.html\")\n",
    "show(p)\n"
   ]
  },
  {
   "cell_type": "code",
   "execution_count": 63,
   "metadata": {},
   "outputs": [],
   "source": [
    "import xlrd\n",
    "df2=pandas.read_excel(\"verlegenhuken.xlsx\", sheet_name=0)\n",
    "df2\n",
    "\n",
    "df2[\"Temperature\"]=df2[\"Temperature\"]/10\n"
   ]
  },
  {
   "cell_type": "code",
   "execution_count": 99,
   "metadata": {},
   "outputs": [
    {
     "name": "stderr",
     "output_type": "stream",
     "text": [
      "INFO:bokeh.io.state:Session output file 'verlegenhuken_scatter_plot.html' already exists, will be overwritten.\n"
     ]
    }
   ],
   "source": [
    "p= figure(plot_width=700, plot_height=500, title=\"Temperature and Air Pressure\", background_fill_color=\"grey\", background_fill_alpha=0.1)\n",
    "p.title.text_color = \"grey\"\n",
    "p.title.text_font_size=\"20pt\"\n",
    "\n",
    "p.xaxis.axis_label=\"Temperature(°C)\"\n",
    "p.yaxis.axis_label=\"Pressure(hPa)\"\n",
    "\n",
    "p.xaxis.minor_tick_line_color=None\n",
    "p.yaxis.minor_tick_line_color=None\n",
    "\n",
    "\n",
    "p.circle(df2[\"Temperature\"], df2[\"Pressure\"], size=1.5)\n",
    "output_file(\"verlegenhuken_scatter_plot.html\")\n",
    "show(p)\n"
   ]
  },
  {
   "cell_type": "code",
   "execution_count": 121,
   "metadata": {},
   "outputs": [],
   "source": [
    "# time_series\n",
    "from bokeh.plotting import figure, show, output_file\n",
    "import pandas\n",
    "\n",
    "df3=pandas.read_csv(\"HistoricalQuotes.csv\", parse_dates=[\"date\"])\n",
    "\n",
    "p= figure(plot_width=1000, \n",
    "          plot_height=500, \n",
    "          title=\"Time Series\",\n",
    "          x_axis_type='datetime'\n",
    "          #responsive=True)\n",
    "         )\n",
    "p.xaxis.axis_label=\"Years\"\n",
    "p.yaxis.axis_label=\"Closing Share prices(US$)\"\n",
    "\n",
    "p.line(df3[\"date\"], df3[\"close\"], line_width=2)\n",
    "output_file(\"amazon_share_time_series_plot.html\")\n",
    "show(p)"
   ]
  },
  {
   "cell_type": "code",
   "execution_count": null,
   "metadata": {},
   "outputs": [],
   "source": []
  }
 ],
 "metadata": {
  "kernelspec": {
   "display_name": "Python 3",
   "language": "python",
   "name": "python3"
  },
  "language_info": {
   "codemirror_mode": {
    "name": "ipython",
    "version": 3
   },
   "file_extension": ".py",
   "mimetype": "text/x-python",
   "name": "python",
   "nbconvert_exporter": "python",
   "pygments_lexer": "ipython3",
   "version": "3.6.4"
  }
 },
 "nbformat": 4,
 "nbformat_minor": 2
}
